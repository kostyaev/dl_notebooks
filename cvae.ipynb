{
 "cells": [
  {
   "cell_type": "code",
   "execution_count": 45,
   "metadata": {
    "collapsed": true
   },
   "outputs": [],
   "source": [
    "import os \n",
    "os.environ[\"CUDA_VISIBLE_DEVICES\"]=\"1\"\n",
    "import tensorflow as tf\n",
    "import numpy as np\n",
    "config = tf.ConfigProto()\n",
    "config.gpu_options.per_process_gpu_memory_fraction = 0.3\n",
    "import matplotlib.pyplot as plt\n",
    "%matplotlib inline\n",
    "import time\n",
    "from tqdm import tqdm_notebook as tqdm\n",
    "from tensorflow.contrib import slim\n",
    "from IPython import display"
   ]
  },
  {
   "cell_type": "code",
   "execution_count": null,
   "metadata": {
    "collapsed": true
   },
   "outputs": [],
   "source": [
    "# graph = tf.Graph()\n",
    "sess = tf.InteractiveSession()"
   ]
  },
  {
   "cell_type": "code",
   "execution_count": 30,
   "metadata": {
    "collapsed": true
   },
   "outputs": [],
   "source": [
    "(train_images, train_labels), (test_images, test_labels) = tf.keras.datasets.mnist.load_data()\n",
    "train_labels = tf.one_hot(train_labels, depth=10).eval()"
   ]
  },
  {
   "cell_type": "code",
   "execution_count": 31,
   "metadata": {
    "collapsed": true
   },
   "outputs": [],
   "source": [
    "train_images = train_images.reshape(train_images.shape[0], 28*28).astype('float32')\n",
    "test_images = test_images.reshape(test_images.shape[0], 28*28).astype('float32')\n",
    "\n",
    "# Normalizing the images to the range of [0., 1.]\n",
    "train_images /= 255.\n",
    "test_images /= 255.\n",
    "\n",
    "# Binarization\n",
    "train_images[train_images >= .5] = 1.\n",
    "train_images[train_images < .5] = 0.\n",
    "test_images[test_images >= .5] = 1.\n",
    "test_images[test_images < .5] = 0."
   ]
  },
  {
   "cell_type": "code",
   "execution_count": 32,
   "metadata": {
    "collapsed": true
   },
   "outputs": [],
   "source": [
    "TRAIN_BUF = 60000\n",
    "BATCH_SIZE = 100\n",
    "TEST_BUF = 10000"
   ]
  },
  {
   "cell_type": "code",
   "execution_count": 33,
   "metadata": {
    "collapsed": true
   },
   "outputs": [],
   "source": [
    "imgs_dataset_placeholder = tf.placeholder(dtype=tf.float32, shape=[None, 28*28], name='img_dataset')\n",
    "classes_dataset_placeholder = tf.placeholder(dtype=tf.float32, shape=[None, 10], name='cls_dataset')"
   ]
  },
  {
   "cell_type": "code",
   "execution_count": 34,
   "metadata": {
    "collapsed": true
   },
   "outputs": [],
   "source": [
    "dataset = tf.data.Dataset.from_tensor_slices((imgs_dataset_placeholder, classes_dataset_placeholder))"
   ]
  },
  {
   "cell_type": "code",
   "execution_count": 35,
   "metadata": {
    "collapsed": true
   },
   "outputs": [],
   "source": [
    "data_iterator = dataset.shuffle(len(train_images)).batch(32).repeat().make_initializable_iterator()"
   ]
  },
  {
   "cell_type": "code",
   "execution_count": 36,
   "metadata": {
    "collapsed": true
   },
   "outputs": [],
   "source": [
    "input_img, input_class = data_iterator.get_next()"
   ]
  },
  {
   "cell_type": "code",
   "execution_count": 37,
   "metadata": {
    "collapsed": true
   },
   "outputs": [],
   "source": [
    "def encoder(x, c):\n",
    "    with tf.variable_scope('encoder'):\n",
    "        x = tf.concat([x,c], axis=-1)\n",
    "        x = slim.fully_connected(x, 256, activation_fn=tf.nn.relu)\n",
    "        x = slim.fully_connected(x, 128, activation_fn=tf.nn.relu)\n",
    "        mu = slim.fully_connected(x, 32, activation_fn=None)\n",
    "        sigma = slim.fully_connected(x, 32, activation_fn=tf.nn.softplus)\n",
    "        return mu, sigma\n",
    "    \n",
    "    \n",
    "def decoder(x, c):\n",
    "    with tf.variable_scope('decoder'):\n",
    "        x = tf.concat([x,c], axis=-1) \n",
    "        x = slim.fully_connected(x, 128, activation_fn=tf.nn.relu)\n",
    "        x = slim.fully_connected(x, 256, activation_fn=tf.nn.relu)\n",
    "        x = slim.fully_connected(x, 28*28, activation_fn=None)\n",
    "        return x\n",
    "    \n",
    "    \n",
    "class CVAE:\n",
    "    \n",
    "    def __init__(self, x, c):\n",
    "        with tf.variable_scope('vae', reuse=tf.AUTO_REUSE):\n",
    "            self.x = x\n",
    "            self.c = c\n",
    "            self.mu, self.sigma = encoder(x,c)\n",
    "            self.q_z = tf.distributions.Normal(self.mu, self.sigma)\n",
    "            self.q_z_sample = self.q_z.sample()\n",
    "            \n",
    "            self.p_z = tf.distributions.Normal(0.0, 1.0)\n",
    "            \n",
    "            self.x_z = decoder(self.q_z_sample, c)\n",
    "            self.x_z_distribution = tf.distributions.Bernoulli(logits=self.x_z)\n",
    "            self.x_z_sample = self.x_z_distribution.sample()\n",
    "            self._loss = None\n",
    "        \n",
    "    \n",
    "    @property\n",
    "    def loss(self):\n",
    "        if self._loss is None:\n",
    "            self.kl = tf.reduce_sum(tf.distributions.kl_divergence(self.p_z, self.q_z), axis=1)\n",
    "            self.log_likelihood = tf.reduce_sum(self.x_z_distribution.log_prob(self.x), axis=1)\n",
    "            elbo = tf.reduce_mean(self.log_likelihood - self.kl)\n",
    "            self._loss = -elbo\n",
    "        return self._loss\n",
    "    \n",
    "        "
   ]
  },
  {
   "cell_type": "code",
   "execution_count": 38,
   "metadata": {
    "collapsed": true
   },
   "outputs": [],
   "source": [
    "cvae = CVAE(input_img, input_class)"
   ]
  },
  {
   "cell_type": "code",
   "execution_count": 42,
   "metadata": {
    "collapsed": true
   },
   "outputs": [],
   "source": [
    "with tf.variable_scope('optimizer', reuse=tf.AUTO_REUSE):\n",
    "    train_op = tf.train.AdamOptimizer(learning_rate=1e-4).minimize(cvae.loss)"
   ]
  },
  {
   "cell_type": "code",
   "execution_count": 43,
   "metadata": {
    "collapsed": true
   },
   "outputs": [],
   "source": [
    "init_op = tf.global_variables_initializer()\n",
    "sess.run(init_op)"
   ]
  },
  {
   "cell_type": "code",
   "execution_count": 44,
   "metadata": {
    "collapsed": true
   },
   "outputs": [],
   "source": [
    "sess.run(data_iterator.initializer, feed_dict={imgs_dataset_placeholder: train_images, \n",
    "                                               classes_dataset_placeholder:train_labels}) "
   ]
  },
  {
   "cell_type": "code",
   "execution_count": 87,
   "metadata": {},
   "outputs": [
    {
     "data": {
      "application/vnd.jupyter.widget-view+json": {
       "model_id": "e97165a2996c4f92ac26252b12fdc50b",
       "version_major": 2,
       "version_minor": 0
      },
      "text/plain": [
       "HBox(children=(IntProgress(value=0, max=1875), HTML(value=u'')))"
      ]
     },
     "metadata": {},
     "output_type": "display_data"
    },
    {
     "name": "stdout",
     "output_type": "stream",
     "text": [
      "\n",
      "Epoch: 1, ELBO: 110.379463196,  KL: 20.1711902618, LogLikelihood: -90.2082824707, time elapse for current epoch 8.14920496941\n"
     ]
    },
    {
     "data": {
      "application/vnd.jupyter.widget-view+json": {
       "model_id": "cb1385ed1877451dbc8e965bb54c2110",
       "version_major": 2,
       "version_minor": 0
      },
      "text/plain": [
       "HBox(children=(IntProgress(value=0, max=1875), HTML(value=u'')))"
      ]
     },
     "metadata": {},
     "output_type": "display_data"
    },
    {
     "name": "stdout",
     "output_type": "stream",
     "text": [
      "\n",
      "Epoch: 2, ELBO: 109.685424805,  KL: 20.214263916, LogLikelihood: -89.4711608887, time elapse for current epoch 8.50358510017\n"
     ]
    },
    {
     "data": {
      "application/vnd.jupyter.widget-view+json": {
       "model_id": "48238ae3c8f3465f9bdf98f5e198ce0e",
       "version_major": 2,
       "version_minor": 0
      },
      "text/plain": [
       "HBox(children=(IntProgress(value=0, max=1875), HTML(value=u'')))"
      ]
     },
     "metadata": {},
     "output_type": "display_data"
    },
    {
     "name": "stdout",
     "output_type": "stream",
     "text": [
      "\n",
      "Epoch: 3, ELBO: 109.113037109,  KL: 20.3185005188, LogLikelihood: -88.7945251465, time elapse for current epoch 8.35385799408\n"
     ]
    },
    {
     "data": {
      "application/vnd.jupyter.widget-view+json": {
       "model_id": "97e05798ecc240ccba2f62e97a415dc5",
       "version_major": 2,
       "version_minor": 0
      },
      "text/plain": [
       "HBox(children=(IntProgress(value=0, max=1875), HTML(value=u'')))"
      ]
     },
     "metadata": {},
     "output_type": "display_data"
    },
    {
     "name": "stdout",
     "output_type": "stream",
     "text": [
      "\n",
      "Epoch: 4, ELBO: 108.522483826,  KL: 20.3528881073, LogLikelihood: -88.1696014404, time elapse for current epoch 8.55152201653\n"
     ]
    },
    {
     "data": {
      "application/vnd.jupyter.widget-view+json": {
       "model_id": "9f8b54a2b31440aa80bde1b91bf2ea78",
       "version_major": 2,
       "version_minor": 0
      },
      "text/plain": [
       "HBox(children=(IntProgress(value=0, max=1875), HTML(value=u'')))"
      ]
     },
     "metadata": {},
     "output_type": "display_data"
    },
    {
     "name": "stdout",
     "output_type": "stream",
     "text": [
      "\n",
      "Epoch: 5, ELBO: 108.063652039,  KL: 20.4346733093, LogLikelihood: -87.6289749146, time elapse for current epoch 8.29838895798\n"
     ]
    },
    {
     "data": {
      "application/vnd.jupyter.widget-view+json": {
       "model_id": "e4d88015e7be4ce1bc25e2bff1225b13",
       "version_major": 2,
       "version_minor": 0
      },
      "text/plain": [
       "HBox(children=(IntProgress(value=0, max=1875), HTML(value=u'')))"
      ]
     },
     "metadata": {},
     "output_type": "display_data"
    },
    {
     "name": "stdout",
     "output_type": "stream",
     "text": [
      "\n",
      "Epoch: 6, ELBO: 107.532218933,  KL: 20.5049877167, LogLikelihood: -87.0272216797, time elapse for current epoch 8.39245200157\n"
     ]
    },
    {
     "data": {
      "application/vnd.jupyter.widget-view+json": {
       "model_id": "9e917bbdd8824b05b684ffcc7bc4b64a",
       "version_major": 2,
       "version_minor": 0
      },
      "text/plain": [
       "HBox(children=(IntProgress(value=0, max=1875), HTML(value=u'')))"
      ]
     },
     "metadata": {},
     "output_type": "display_data"
    },
    {
     "name": "stdout",
     "output_type": "stream",
     "text": [
      "\n",
      "Epoch: 7, ELBO: 107.140296936,  KL: 20.5774078369, LogLikelihood: -86.5628890991, time elapse for current epoch 8.50771188736\n"
     ]
    },
    {
     "data": {
      "application/vnd.jupyter.widget-view+json": {
       "model_id": "e95c8e8164534b6ea4120e8ea0a1b8db",
       "version_major": 2,
       "version_minor": 0
      },
      "text/plain": [
       "HBox(children=(IntProgress(value=0, max=1875), HTML(value=u'')))"
      ]
     },
     "metadata": {},
     "output_type": "display_data"
    },
    {
     "name": "stdout",
     "output_type": "stream",
     "text": [
      "\n",
      "Epoch: 8, ELBO: 106.679130554,  KL: 20.611579895, LogLikelihood: -86.067565918, time elapse for current epoch 8.40681004524\n"
     ]
    },
    {
     "data": {
      "application/vnd.jupyter.widget-view+json": {
       "model_id": "7b175426a0414bbfac18ba73f07558b7",
       "version_major": 2,
       "version_minor": 0
      },
      "text/plain": [
       "HBox(children=(IntProgress(value=0, max=1875), HTML(value=u'')))"
      ]
     },
     "metadata": {},
     "output_type": "display_data"
    },
    {
     "name": "stdout",
     "output_type": "stream",
     "text": [
      "\n",
      "Epoch: 9, ELBO: 106.253852844,  KL: 20.6605205536, LogLikelihood: -85.5933303833, time elapse for current epoch 8.44072413445\n"
     ]
    },
    {
     "data": {
      "application/vnd.jupyter.widget-view+json": {
       "model_id": "19a71b8443a14c6c8fa393954941c5d7",
       "version_major": 2,
       "version_minor": 0
      },
      "text/plain": [
       "HBox(children=(IntProgress(value=0, max=1875), HTML(value=u'')))"
      ]
     },
     "metadata": {},
     "output_type": "display_data"
    },
    {
     "name": "stdout",
     "output_type": "stream",
     "text": [
      "\n",
      "Epoch: 10, ELBO: 105.852180481,  KL: 20.7175140381, LogLikelihood: -85.1346664429, time elapse for current epoch 8.55823802948\n"
     ]
    },
    {
     "data": {
      "application/vnd.jupyter.widget-view+json": {
       "model_id": "20f37d41ff804209b8e60a57e15c1e11",
       "version_major": 2,
       "version_minor": 0
      },
      "text/plain": [
       "HBox(children=(IntProgress(value=0, max=1875), HTML(value=u'')))"
      ]
     },
     "metadata": {},
     "output_type": "display_data"
    },
    {
     "name": "stdout",
     "output_type": "stream",
     "text": [
      "\n",
      "Epoch: 11, ELBO: 105.487434387,  KL: 20.7391300201, LogLikelihood: -84.748298645, time elapse for current epoch 8.40969610214\n"
     ]
    },
    {
     "data": {
      "application/vnd.jupyter.widget-view+json": {
       "model_id": "650a36289a0443ce8434cd7664acf7be",
       "version_major": 2,
       "version_minor": 0
      },
      "text/plain": [
       "HBox(children=(IntProgress(value=0, max=1875), HTML(value=u'')))"
      ]
     },
     "metadata": {},
     "output_type": "display_data"
    },
    {
     "name": "stdout",
     "output_type": "stream",
     "text": [
      "\n",
      "Epoch: 12, ELBO: 105.129005432,  KL: 20.7866706848, LogLikelihood: -84.3423309326, time elapse for current epoch 8.65592503548\n"
     ]
    },
    {
     "data": {
      "application/vnd.jupyter.widget-view+json": {
       "model_id": "db0c2194fdec44a1b0adfd097f93eb2c",
       "version_major": 2,
       "version_minor": 0
      },
      "text/plain": [
       "HBox(children=(IntProgress(value=0, max=1875), HTML(value=u'')))"
      ]
     },
     "metadata": {},
     "output_type": "display_data"
    },
    {
     "name": "stdout",
     "output_type": "stream",
     "text": [
      "\n",
      "Epoch: 13, ELBO: 104.771102905,  KL: 20.8262500763, LogLikelihood: -83.9448471069, time elapse for current epoch 8.65221786499\n"
     ]
    },
    {
     "data": {
      "application/vnd.jupyter.widget-view+json": {
       "model_id": "b30cc56128bb449e80717f0291c0aac1",
       "version_major": 2,
       "version_minor": 0
      },
      "text/plain": [
       "HBox(children=(IntProgress(value=0, max=1875), HTML(value=u'')))"
      ]
     },
     "metadata": {},
     "output_type": "display_data"
    },
    {
     "name": "stdout",
     "output_type": "stream",
     "text": [
      "\n",
      "Epoch: 14, ELBO: 104.387031555,  KL: 20.8428497314, LogLikelihood: -83.5441818237, time elapse for current epoch 8.39143586159\n"
     ]
    },
    {
     "data": {
      "application/vnd.jupyter.widget-view+json": {
       "model_id": "40d852fcca0b4a2b9112c23bd6adbc9c",
       "version_major": 2,
       "version_minor": 0
      },
      "text/plain": [
       "HBox(children=(IntProgress(value=0, max=1875), HTML(value=u'')))"
      ]
     },
     "metadata": {},
     "output_type": "display_data"
    },
    {
     "name": "stdout",
     "output_type": "stream",
     "text": [
      "\n",
      "Epoch: 15, ELBO: 104.160797119,  KL: 20.9101524353, LogLikelihood: -83.2506484985, time elapse for current epoch 8.65206599236\n"
     ]
    },
    {
     "data": {
      "application/vnd.jupyter.widget-view+json": {
       "model_id": "dcf3b577fa06479ca0337f5b0ac568da",
       "version_major": 2,
       "version_minor": 0
      },
      "text/plain": [
       "HBox(children=(IntProgress(value=0, max=1875), HTML(value=u'')))"
      ]
     },
     "metadata": {},
     "output_type": "display_data"
    },
    {
     "name": "stdout",
     "output_type": "stream",
     "text": [
      "\n",
      "Epoch: 16, ELBO: 103.740570068,  KL: 20.9266433716, LogLikelihood: -82.8139266968, time elapse for current epoch 8.54124999046\n"
     ]
    },
    {
     "data": {
      "application/vnd.jupyter.widget-view+json": {
       "model_id": "dc2b6d325cfc49698b2a2dee68fa8e89",
       "version_major": 2,
       "version_minor": 0
      },
      "text/plain": [
       "HBox(children=(IntProgress(value=0, max=1875), HTML(value=u'')))"
      ]
     },
     "metadata": {},
     "output_type": "display_data"
    },
    {
     "name": "stdout",
     "output_type": "stream",
     "text": [
      "\n",
      "Epoch: 17, ELBO: 103.524116516,  KL: 20.9736690521, LogLikelihood: -82.5504608154, time elapse for current epoch 8.0859940052\n"
     ]
    },
    {
     "data": {
      "application/vnd.jupyter.widget-view+json": {
       "model_id": "c0a148a1aaae4d47800e2d6cfd60e5ed",
       "version_major": 2,
       "version_minor": 0
      },
      "text/plain": [
       "HBox(children=(IntProgress(value=0, max=1875), HTML(value=u'')))"
      ]
     },
     "metadata": {},
     "output_type": "display_data"
    },
    {
     "name": "stdout",
     "output_type": "stream",
     "text": [
      "\n",
      "Epoch: 18, ELBO: 103.167709351,  KL: 21.0115680695, LogLikelihood: -82.1561431885, time elapse for current epoch 8.66031098366\n"
     ]
    },
    {
     "data": {
      "application/vnd.jupyter.widget-view+json": {
       "model_id": "9f0f05f201db4da9a873d6b4f11f5f21",
       "version_major": 2,
       "version_minor": 0
      },
      "text/plain": [
       "HBox(children=(IntProgress(value=0, max=1875), HTML(value=u'')))"
      ]
     },
     "metadata": {},
     "output_type": "display_data"
    },
    {
     "name": "stdout",
     "output_type": "stream",
     "text": [
      "\n",
      "Epoch: 19, ELBO: 102.895492554,  KL: 21.0281333923, LogLikelihood: -81.8673477173, time elapse for current epoch 8.65128493309\n"
     ]
    },
    {
     "data": {
      "application/vnd.jupyter.widget-view+json": {
       "model_id": "57f5e1fa71714bbda8f2ff3c55e89078",
       "version_major": 2,
       "version_minor": 0
      },
      "text/plain": [
       "HBox(children=(IntProgress(value=0, max=1875), HTML(value=u'')))"
      ]
     },
     "metadata": {},
     "output_type": "display_data"
    },
    {
     "name": "stdout",
     "output_type": "stream",
     "text": [
      "\n",
      "Epoch: 20, ELBO: 102.709030151,  KL: 21.0734519958, LogLikelihood: -81.6355819702, time elapse for current epoch 8.55026316643\n"
     ]
    }
   ],
   "source": [
    "epochs = 20\n",
    "for epoch in range(1, epochs + 1):\n",
    "    start_time = time.time()\n",
    "    all_elbos = []\n",
    "    all_kl = []\n",
    "    all_logl = []\n",
    "    cnt = 0\n",
    "    try:\n",
    "        for i in tqdm(range(60000/32)):\n",
    "            _, elbo_value, kl, logl = sess.run([train_op, cvae.loss, cvae.kl, cvae.log_likelihood])\n",
    "            all_elbos.append(elbo_value)\n",
    "            all_kl.append(kl)\n",
    "            all_logl.append(logl)\n",
    "            cnt +=1\n",
    "    except tf.errors.OutOfRangeError:\n",
    "        pass\n",
    "        \n",
    "    end_time = time.time()\n",
    "\n",
    "#     display.clear_output(wait=False)\n",
    "    print('Epoch: {}, ELBO: {},  KL: {}, LogLikelihood: {}, '\n",
    "          'time elapse for current epoch {}'.format(epoch,\n",
    "                                                    np.mean(all_elbos), np.mean(all_kl), np.mean(all_logl),\n",
    "                                                    end_time - start_time))\n",
    "    \n",
    "    all_elbos = []"
   ]
  },
  {
   "cell_type": "code",
   "execution_count": 88,
   "metadata": {
    "collapsed": true
   },
   "outputs": [],
   "source": [
    "test_img = tf.placeholder(dtype=np.float32, shape=(1,28*28))\n",
    "test_label = tf.placeholder(dtype=np.float32, shape=(1,10))"
   ]
  },
  {
   "cell_type": "code",
   "execution_count": 89,
   "metadata": {},
   "outputs": [
    {
     "data": {
      "text/plain": [
       "2"
      ]
     },
     "execution_count": 89,
     "metadata": {},
     "output_type": "execute_result"
    },
    {
     "data": {
      "image/png": "[encoded data removed]",
      "text/plain": [
       "<Figure size 432x288 with 1 Axes>"
      ]
     },
     "metadata": {
      "needs_background": "light"
     },
     "output_type": "display_data"
    }
   ],
   "source": [
    "import random\n",
    "\n",
    "idx = random.randint(0,1000)\n",
    "img = train_images[idx].reshape(28,28)\n",
    "label = train_labels[idx]\n",
    "plt.imshow(img)\n",
    "label.argmax()"
   ]
  },
  {
   "cell_type": "code",
   "execution_count": 90,
   "metadata": {
    "collapsed": true
   },
   "outputs": [],
   "source": [
    "test_vae = CVAE(test_img, test_label)"
   ]
  },
  {
   "cell_type": "code",
   "execution_count": 96,
   "metadata": {},
   "outputs": [
    {
     "data": {
      "text/plain": [
       "<matplotlib.image.AxesImage at 0x7f5b24771e10>"
      ]
     },
     "execution_count": 96,
     "metadata": {},
     "output_type": "execute_result"
    },
    {
     "data": {
      "image/png": "[encoded data removed]",
      "text/plain": [
       "<Figure size 432x288 with 1 Axes>"
      ]
     },
     "metadata": {
      "needs_background": "light"
     },
     "output_type": "display_data"
    }
   ],
   "source": [
    "img_res, mu, sigma = sess.run([test_vae.x_z_sample, test_vae.mu, test_vae.sigma], \n",
    "                              feed_dict={test_vae.x: img.reshape(1,28*28), test_vae.c: label[np.newaxis]})\n",
    "plt.imshow(img_res.reshape(28,28), cmap='gray')"
   ]
  },
  {
   "cell_type": "code",
   "execution_count": 140,
   "metadata": {},
   "outputs": [
    {
     "data": {
      "text/plain": [
       "<matplotlib.image.AxesImage at 0x7f5b043db310>"
      ]
     },
     "execution_count": 140,
     "metadata": {},
     "output_type": "execute_result"
    },
    {
     "data": {
      "image/png": "[encoded data removed]",
      "text/plain": [
       "<Figure size 432x288 with 1 Axes>"
      ]
     },
     "metadata": {
      "needs_background": "light"
     },
     "output_type": "display_data"
    }
   ],
   "source": [
    "label = np.zeros(10)\n",
    "label[0] = 1.0\n",
    "img = sess.run(test_vae.x_z_sample, feed_dict={test_vae.q_z_sample: np.random.randn(1,32), \n",
    "                                               test_vae.c: label[np.newaxis]}).reshape((28,28))\n",
    "plt.imshow(img, cmap='gray')"
   ]
  }
 ],
 "metadata": {
  "kernelspec": {
   "display_name": "Python [default]",
   "language": "python",
   "name": "python2"
  },
  "language_info": {
   "codemirror_mode": {
    "name": "ipython",
    "version": 2
   },
   "file_extension": ".py",
   "mimetype": "text/x-python",
   "name": "python",
   "nbconvert_exporter": "python",
   "pygments_lexer": "ipython2",
   "version": "2.7.14"
  }
 },
 "nbformat": 4,
 "nbformat_minor": 2
}
