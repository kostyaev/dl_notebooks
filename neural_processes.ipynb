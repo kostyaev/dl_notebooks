{
 "cells": [
  {
   "cell_type": "code",
   "execution_count": 1,
   "metadata": {
    "collapsed": true
   },
   "outputs": [],
   "source": [
    "import os \n",
    "os.environ[\"CUDA_VISIBLE_DEVICES\"]=\"1\"\n",
    "import tensorflow as tf\n",
    "import numpy as np\n",
    "config = tf.ConfigProto()\n",
    "config.gpu_options.per_process_gpu_memory_fraction = 0.3\n",
    "import matplotlib.pyplot as plt\n",
    "%matplotlib inline\n",
    "import time\n",
    "from tqdm import tqdm_notebook as tqdm\n",
    "from tensorflow.contrib import slim\n",
    "from IPython import display"
   ]
  },
  {
   "cell_type": "code",
   "execution_count": 2,
   "metadata": {
    "collapsed": true
   },
   "outputs": [],
   "source": [
    "# graph = tf.Graph()\n",
    "sess = tf.InteractiveSession()"
   ]
  },
  {
   "cell_type": "code",
   "execution_count": 3,
   "metadata": {
    "collapsed": true
   },
   "outputs": [],
   "source": [
    "(train_images, train_labels), (test_images, test_labels) = tf.keras.datasets.mnist.load_data()\n",
    "train_labels = tf.one_hot(train_labels, depth=10).eval()"
   ]
  },
  {
   "cell_type": "code",
   "execution_count": 4,
   "metadata": {
    "collapsed": true
   },
   "outputs": [],
   "source": [
    "train_images = train_images.reshape(train_images.shape[0], 28*28).astype('float32')\n",
    "test_images = test_images.reshape(test_images.shape[0], 28*28).astype('float32')\n",
    "\n",
    "# Normalizing the images to the range of [0., 1.]\n",
    "train_images /= 255.\n",
    "test_images /= 255.\n",
    "\n",
    "# # Binarization\n",
    "# train_images[train_images >= .5] = 1.\n",
    "# train_images[train_images < .5] = 0.\n",
    "# test_images[test_images >= .5] = 1.\n",
    "# test_images[test_images < .5] = 0."
   ]
  },
  {
   "cell_type": "code",
   "execution_count": 5,
   "metadata": {
    "collapsed": true
   },
   "outputs": [],
   "source": [
    "TRAIN_BUF = 60000\n",
    "BATCH_SIZE = 100\n",
    "TEST_BUF = 10000"
   ]
  },
  {
   "cell_type": "code",
   "execution_count": 6,
   "metadata": {
    "collapsed": true
   },
   "outputs": [],
   "source": [
    "def data_points_generator(images, batch_size=3):\n",
    "    batchXC = []\n",
    "    batchYC = []\n",
    "    batchYT = []\n",
    "    \n",
    "    n_context_points = np.random.randint(1, 28*28)\n",
    "    all_ids = np.arange(0, 28*28, 1, dtype=np.int32)\n",
    "    x_t = np.dstack(np.unravel_index(all_ids, (28,28)))[0] / 28.0\n",
    "    x_t = np.repeat(x_t[np.newaxis], batch_size, axis=0).astype(np.float32)\n",
    "\n",
    "    for img in images:\n",
    "        random_ids = np.random.choice(all_ids, n_context_points, replace=False)\n",
    "        y_c = img[random_ids]\n",
    "        x_c = np.dstack(np.unravel_index(random_ids, (28,28)))[0] / 28.0\n",
    "        batchXC.append(x_c)\n",
    "        batchYC.append(y_c)\n",
    "        batchYT.append(img)\n",
    "        if len(batchXC) == batch_size:\n",
    "            yield np.array(batchXC, dtype=np.float32), np.array(batchYC, dtype=np.float32)[:,:,np.newaxis], \\\n",
    "                  x_t, np.array(batchYT, dtype=np.float32)[:,:,np.newaxis]\n",
    "            batchXC = []\n",
    "            batchYC = []\n",
    "            batchYT = []\n",
    "            n_context_points = np.random.randint(1, 28*28)"
   ]
  },
  {
   "cell_type": "code",
   "execution_count": 7,
   "metadata": {
    "collapsed": true
   },
   "outputs": [],
   "source": [
    "g = data_points_generator(train_images[:50])"
   ]
  },
  {
   "cell_type": "code",
   "execution_count": 8,
   "metadata": {
    "collapsed": true
   },
   "outputs": [],
   "source": [
    "xc, yc, xt, yt = g.next()"
   ]
  },
  {
   "cell_type": "code",
   "execution_count": 9,
   "metadata": {},
   "outputs": [
    {
     "data": {
      "text/plain": [
       "((3, 43, 2), (3, 43, 1), (3, 784, 2), (3, 784, 1))"
      ]
     },
     "execution_count": 9,
     "metadata": {},
     "output_type": "execute_result"
    }
   ],
   "source": [
    "xc.shape, yc.shape, xt.shape, yt.shape"
   ]
  },
  {
   "cell_type": "code",
   "execution_count": 10,
   "metadata": {},
   "outputs": [
    {
     "data": {
      "text/plain": [
       "<matplotlib.image.AxesImage at 0x7f59345ef1d0>"
      ]
     },
     "execution_count": 10,
     "metadata": {},
     "output_type": "execute_result"
    },
    {
     "data": {
      "image/png": "[encoded data removed]",
      "text/plain": [
       "<Figure size 432x288 with 1 Axes>"
      ]
     },
     "metadata": {
      "needs_background": "light"
     },
     "output_type": "display_data"
    }
   ],
   "source": [
    "plt.imshow(yt[0,:,0].reshape(28,28))"
   ]
  },
  {
   "cell_type": "code",
   "execution_count": 11,
   "metadata": {
    "collapsed": true
   },
   "outputs": [],
   "source": [
    "import functools\n",
    "train_generator = functools.partial(data_points_generator, train_images, 64)"
   ]
  },
  {
   "cell_type": "code",
   "execution_count": 12,
   "metadata": {
    "collapsed": true
   },
   "outputs": [],
   "source": [
    "ds = tf.data.Dataset.from_generator(train_generator, (tf.float32, tf.float32, tf.float32, tf.float32),\n",
    "                                   (tf.TensorShape([None, None, 2]), tf.TensorShape([None, None, 1]),\n",
    "                                    tf.TensorShape([None, None, 2]), tf.TensorShape([None, None, 1])))\n",
    "data_iterator = ds.repeat().make_initializable_iterator()\n",
    "context_x, context_y, target_x, target_y = data_iterator.get_next()"
   ]
  },
  {
   "cell_type": "code",
   "execution_count": 13,
   "metadata": {},
   "outputs": [
    {
     "data": {
      "text/plain": [
       "(<tf.Tensor 'IteratorGetNext:0' shape=(?, ?, 2) dtype=float32>,\n",
       " <tf.Tensor 'IteratorGetNext:1' shape=(?, ?, 1) dtype=float32>,\n",
       " <tf.Tensor 'IteratorGetNext:2' shape=(?, ?, 2) dtype=float32>,\n",
       " <tf.Tensor 'IteratorGetNext:3' shape=(?, ?, 1) dtype=float32>)"
      ]
     },
     "execution_count": 13,
     "metadata": {},
     "output_type": "execute_result"
    }
   ],
   "source": [
    "context_x, context_y, target_x, target_y "
   ]
  },
  {
   "cell_type": "code",
   "execution_count": 21,
   "metadata": {
    "collapsed": true
   },
   "outputs": [],
   "source": [
    "def aggregator(r):\n",
    "    return tf.reduce_mean(r, axis=1)\n",
    "\n",
    "def encoder(x, y):\n",
    "    with tf.variable_scope('encoder', reuse=tf.AUTO_REUSE):\n",
    "        # x.shape = [bs, n_points, 2]\n",
    "        # y.shape = [bs, n_points, 1]\n",
    "        bs = tf.shape(x)[0]\n",
    "        n_points = tf.shape(x)[1]\n",
    "        x = tf.reshape(x, (bs*n_points, x.shape.as_list()[-1]))\n",
    "        y = tf.reshape(y, (bs*n_points, y.shape.as_list()[-1]))\n",
    "        x = tf.concat([x,y], axis=-1)\n",
    "        x = slim.fully_connected(x, 256, activation_fn=tf.nn.relu)\n",
    "        x = slim.fully_connected(x, 128, activation_fn=tf.nn.relu)\n",
    "        mu = slim.fully_connected(x, 64, activation_fn=None)\n",
    "        sigma = slim.fully_connected(x, 64, activation_fn=tf.nn.softplus)\n",
    "        \n",
    "        mu = tf.reshape(mu, (bs,n_points, mu.shape.as_list()[-1]))\n",
    "        sigma = tf.reshape(sigma, (bs,n_points,sigma.shape.as_list()[-1]))\n",
    "        return aggregator(mu), aggregator(sigma)\n",
    "    \n",
    "def decoder(zc, xt):\n",
    "    with tf.variable_scope('decoder', reuse=tf.AUTO_REUSE):\n",
    "        # zc.shape = [bs, z_dim]\n",
    "        # xt.shape = [bs, n_points, 1]\n",
    "        bs = tf.shape(xt)[0]\n",
    "        n_points = tf.shape(xt)[1]\n",
    "        zc = tf.tile(tf.expand_dims(zc, axis=1), [1, n_points, 1])\n",
    "        x = tf.concat([zc, xt], axis=-1)\n",
    "        x = tf.reshape(x, (bs*n_points, x.shape.as_list()[-1]))\n",
    "        x = slim.fully_connected(x, 128, activation_fn=tf.nn.relu)\n",
    "        x = slim.fully_connected(x, 256, activation_fn=tf.nn.relu)\n",
    "        x = slim.fully_connected(x, 1, activation_fn=None)\n",
    "        x_probs = tf.nn.sigmoid(x)\n",
    "        yt = tf.reshape(x, (bs, n_points, x.shape.as_list()[-1]))\n",
    "#         yt_probs = tf.reshape(x_probs, (bs, n_points, x.shape.as_list()[-1]))\n",
    "        return yt, tf.nn.sigmoid(yt)\n",
    "    \n",
    "    \n",
    "class NP:\n",
    "    \n",
    "    def __init__(self, c_x, c_y, t_x=None, t_y=None):\n",
    "        with tf.variable_scope('np', reuse=tf.AUTO_REUSE):\n",
    "            \n",
    "            self.c_x, self.c_y, self.t_x, self.t_y = c_x, c_y, t_x, t_y\n",
    "            self.z_mu_c, self.z_sigma_c = encoder(c_x, c_y)\n",
    "            self.q_z_c = tf.distributions.Normal(self.z_mu_c, self.z_sigma_c)\n",
    "            \n",
    "            if t_y is not None:\n",
    "                self.z_mu_all, self.z_sigma_all = encoder(t_x, t_y)\n",
    "                self.q_z_all = tf.distributions.Normal(self.z_mu_all, self.z_sigma_all)\n",
    "                self.q_z_all_sample = self.q_z_all.sample()\n",
    "                self.y_t_hat, self.y_t_hat_probs = decoder(self.q_z_all_sample, t_x)\n",
    "            else:\n",
    "                self.y_t_hat, self.y_t_hat_probs = decoder(self.q_z_c.sample(), t_x)\n",
    "            \n",
    "#             self.y_t_hat_distribution = tf.distributions.Bernoulli(logits=self.y_t_hat)\n",
    "#             self.y_t_hat_sample = self.y_t_hat_distribution.sample()\n",
    "            self._loss = None\n",
    "        \n",
    "    \n",
    "    @property\n",
    "    def loss(self):\n",
    "        if self._loss is None:\n",
    "            self.kl = tf.reduce_sum(tf.distributions.kl_divergence(self.q_z_c, self.q_z_all), axis=1)\n",
    "#             self.log_likelihood = tf.reduce_sum(self.y_t_hat_distribution.log_prob(self.t_y), axis=1)\n",
    "#             elbo = tf.reduce_mean(self.log_likelihood - self.kl)\n",
    "#             self._loss = -elbo\n",
    "            self.binary_crossentropy = tf.reduce_sum(tf.nn.sigmoid_cross_entropy_with_logits(logits=self.y_t_hat, labels=self.t_y), axis=1)\n",
    "            self._loss = tf.reduce_mean(self.binary_crossentropy + self.kl)\n",
    "        return self._loss\n",
    "    \n",
    "        "
   ]
  },
  {
   "cell_type": "code",
   "execution_count": 22,
   "metadata": {
    "collapsed": true
   },
   "outputs": [],
   "source": [
    "net = NP(context_x, context_y, target_x, target_y)"
   ]
  },
  {
   "cell_type": "code",
   "execution_count": 23,
   "metadata": {
    "collapsed": true
   },
   "outputs": [],
   "source": [
    "with tf.variable_scope('optimizer', reuse=tf.AUTO_REUSE):\n",
    "    train_op = tf.train.AdamOptimizer(learning_rate=1e-3).minimize(net.loss)"
   ]
  },
  {
   "cell_type": "code",
   "execution_count": 24,
   "metadata": {
    "collapsed": true
   },
   "outputs": [],
   "source": [
    "init_op = tf.global_variables_initializer()\n",
    "sess.run(init_op)"
   ]
  },
  {
   "cell_type": "code",
   "execution_count": 25,
   "metadata": {
    "collapsed": true
   },
   "outputs": [],
   "source": [
    "sess.run(data_iterator.initializer) "
   ]
  },
  {
   "cell_type": "code",
   "execution_count": 322,
   "metadata": {},
   "outputs": [
    {
     "data": {
      "application/vnd.jupyter.widget-view+json": {
       "model_id": "6bf28f9930464c2ba83c3d4df701543b",
       "version_major": 2,
       "version_minor": 0
      },
      "text/plain": [
       "HBox(children=(IntProgress(value=0, max=937), HTML(value=u'')))"
      ]
     },
     "metadata": {},
     "output_type": "display_data"
    },
    {
     "name": "stdout",
     "output_type": "stream",
     "text": [
      "Epoch: 1, ELBO: 134.916442871,  KL: 8.86538791656, LogLikelihood: 126.051063538, time elapse for current epoch 23.3151650429\n"
     ]
    },
    {
     "data": {
      "application/vnd.jupyter.widget-view+json": {
       "model_id": "85a06209c5c8410c92e82d39ed501471",
       "version_major": 2,
       "version_minor": 0
      },
      "text/plain": [
       "HBox(children=(IntProgress(value=0, max=937), HTML(value=u'')))"
      ]
     },
     "metadata": {},
     "output_type": "display_data"
    },
    {
     "name": "stdout",
     "output_type": "stream",
     "text": [
      "Epoch: 2, ELBO: 134.257873535,  KL: 10.0186672211, LogLikelihood: 124.239196777, time elapse for current epoch 23.0900380611\n"
     ]
    },
    {
     "data": {
      "application/vnd.jupyter.widget-view+json": {
       "model_id": "613167e2aacd48088965797586ee0acd",
       "version_major": 2,
       "version_minor": 0
      },
      "text/plain": [
       "HBox(children=(IntProgress(value=0, max=937), HTML(value=u'')))"
      ]
     },
     "metadata": {},
     "output_type": "display_data"
    },
    {
     "name": "stdout",
     "output_type": "stream",
     "text": [
      "Epoch: 3, ELBO: 136.579818726,  KL: 10.6399002075, LogLikelihood: 125.939926147, time elapse for current epoch 23.0017840862\n"
     ]
    },
    {
     "data": {
      "application/vnd.jupyter.widget-view+json": {
       "model_id": "82073c4b0e084214a321ea6a8b0b1fd7",
       "version_major": 2,
       "version_minor": 0
      },
      "text/plain": [
       "HBox(children=(IntProgress(value=0, max=937), HTML(value=u'')))"
      ]
     },
     "metadata": {},
     "output_type": "display_data"
    },
    {
     "name": "stdout",
     "output_type": "stream",
     "text": [
      "Epoch: 4, ELBO: 136.105117798,  KL: 10.6420040131, LogLikelihood: 125.463119507, time elapse for current epoch 23.1527571678\n"
     ]
    },
    {
     "data": {
      "application/vnd.jupyter.widget-view+json": {
       "model_id": "701fa3d3849d48bba124ffc23392ba87",
       "version_major": 2,
       "version_minor": 0
      },
      "text/plain": [
       "HBox(children=(IntProgress(value=0, max=937), HTML(value=u'')))"
      ]
     },
     "metadata": {},
     "output_type": "display_data"
    },
    {
     "name": "stdout",
     "output_type": "stream",
     "text": [
      "Epoch: 5, ELBO: 138.38571167,  KL: 11.5766172409, LogLikelihood: 126.80909729, time elapse for current epoch 23.0798270702\n"
     ]
    },
    {
     "data": {
      "application/vnd.jupyter.widget-view+json": {
       "model_id": "ab1c00281e7047869de3dbaf1bdd0c60",
       "version_major": 2,
       "version_minor": 0
      },
      "text/plain": [
       "HBox(children=(IntProgress(value=0, max=937), HTML(value=u'')))"
      ]
     },
     "metadata": {},
     "output_type": "display_data"
    },
    {
     "name": "stdout",
     "output_type": "stream",
     "text": [
      "Epoch: 6, ELBO: 134.704315186,  KL: 10.5488357544, LogLikelihood: 124.155464172, time elapse for current epoch 23.2958769798\n"
     ]
    },
    {
     "data": {
      "application/vnd.jupyter.widget-view+json": {
       "model_id": "7f30c739af2c4a529c6874d605bdcd06",
       "version_major": 2,
       "version_minor": 0
      },
      "text/plain": [
       "HBox(children=(IntProgress(value=0, max=937), HTML(value=u'')))"
      ]
     },
     "metadata": {},
     "output_type": "display_data"
    },
    {
     "name": "stdout",
     "output_type": "stream",
     "text": [
      "Epoch: 7, ELBO: 140.379165649,  KL: 12.2493362427, LogLikelihood: 128.129837036, time elapse for current epoch 23.0803530216\n"
     ]
    },
    {
     "data": {
      "application/vnd.jupyter.widget-view+json": {
       "model_id": "fdcff1f95c6f49e9a9a4ddaed8acbd36",
       "version_major": 2,
       "version_minor": 0
      },
      "text/plain": [
       "HBox(children=(IntProgress(value=0, max=937), HTML(value=u'')))"
      ]
     },
     "metadata": {},
     "output_type": "display_data"
    },
    {
     "name": "stdout",
     "output_type": "stream",
     "text": [
      "Epoch: 8, ELBO: 137.602783203,  KL: 11.7283058167, LogLikelihood: 125.874481201, time elapse for current epoch 23.0500240326\n"
     ]
    },
    {
     "data": {
      "application/vnd.jupyter.widget-view+json": {
       "model_id": "359b7d06ca8c41e993e2c463492073bb",
       "version_major": 2,
       "version_minor": 0
      },
      "text/plain": [
       "HBox(children=(IntProgress(value=0, max=937), HTML(value=u'')))"
      ]
     },
     "metadata": {},
     "output_type": "display_data"
    },
    {
     "name": "stdout",
     "output_type": "stream",
     "text": [
      "Epoch: 9, ELBO: 136.677307129,  KL: 11.7396469116, LogLikelihood: 124.937667847, time elapse for current epoch 23.3056080341\n"
     ]
    },
    {
     "data": {
      "application/vnd.jupyter.widget-view+json": {
       "model_id": "71a210e9b57d4e56bc940ee2686ba610",
       "version_major": 2,
       "version_minor": 0
      },
      "text/plain": [
       "HBox(children=(IntProgress(value=0, max=937), HTML(value=u'')))"
      ]
     },
     "metadata": {},
     "output_type": "display_data"
    },
    {
     "name": "stdout",
     "output_type": "stream",
     "text": [
      "Epoch: 10, ELBO: 134.465942383,  KL: 10.6838121414, LogLikelihood: 123.78212738, time elapse for current epoch 22.8972139359\n"
     ]
    },
    {
     "data": {
      "application/vnd.jupyter.widget-view+json": {
       "model_id": "d3318757205c42f6b320bb5105aacec4",
       "version_major": 2,
       "version_minor": 0
      },
      "text/plain": [
       "HBox(children=(IntProgress(value=0, max=937), HTML(value=u'')))"
      ]
     },
     "metadata": {},
     "output_type": "display_data"
    },
    {
     "name": "stdout",
     "output_type": "stream",
     "text": [
      "Epoch: 11, ELBO: 136.281799316,  KL: 11.0257387161, LogLikelihood: 125.256065369, time elapse for current epoch 23.3830280304\n"
     ]
    },
    {
     "data": {
      "application/vnd.jupyter.widget-view+json": {
       "model_id": "35f9e4d00c274e5999212473040ba414",
       "version_major": 2,
       "version_minor": 0
      },
      "text/plain": [
       "HBox(children=(IntProgress(value=0, max=937), HTML(value=u'')))"
      ]
     },
     "metadata": {},
     "output_type": "display_data"
    },
    {
     "name": "stdout",
     "output_type": "stream",
     "text": [
      "Epoch: 12, ELBO: 133.114898682,  KL: 10.9845085144, LogLikelihood: 122.130378723, time elapse for current epoch 22.9067831039\n"
     ]
    },
    {
     "data": {
      "application/vnd.jupyter.widget-view+json": {
       "model_id": "a1a64de4a63a49f3af57800f3a387c2b",
       "version_major": 2,
       "version_minor": 0
      },
      "text/plain": [
       "HBox(children=(IntProgress(value=0, max=937), HTML(value=u'')))"
      ]
     },
     "metadata": {},
     "output_type": "display_data"
    },
    {
     "name": "stdout",
     "output_type": "stream",
     "text": [
      "Epoch: 13, ELBO: 140.610412598,  KL: 13.6356010437, LogLikelihood: 126.974815369, time elapse for current epoch 22.808743\n"
     ]
    },
    {
     "data": {
      "application/vnd.jupyter.widget-view+json": {
       "model_id": "895e08fa72fe4aa1ae43d688a00c299e",
       "version_major": 2,
       "version_minor": 0
      },
      "text/plain": [
       "HBox(children=(IntProgress(value=0, max=937), HTML(value=u'')))"
      ]
     },
     "metadata": {},
     "output_type": "display_data"
    },
    {
     "name": "stdout",
     "output_type": "stream",
     "text": [
      "Epoch: 14, ELBO: 141.997833252,  KL: 15.8725986481, LogLikelihood: 126.125228882, time elapse for current epoch 23.0325241089\n"
     ]
    },
    {
     "data": {
      "application/vnd.jupyter.widget-view+json": {
       "model_id": "6d12cd64a6ba495ba414d2fca82a7334",
       "version_major": 2,
       "version_minor": 0
      },
      "text/plain": [
       "HBox(children=(IntProgress(value=0, max=937), HTML(value=u'')))"
      ]
     },
     "metadata": {},
     "output_type": "display_data"
    },
    {
     "name": "stdout",
     "output_type": "stream",
     "text": [
      "Epoch: 15, ELBO: 135.834625244,  KL: 10.1141090393, LogLikelihood: 125.720527649, time elapse for current epoch 23.145663023\n"
     ]
    },
    {
     "data": {
      "application/vnd.jupyter.widget-view+json": {
       "model_id": "fd62039ed1b046348b9c69f3bd8f2a1a",
       "version_major": 2,
       "version_minor": 0
      },
      "text/plain": [
       "HBox(children=(IntProgress(value=0, max=937), HTML(value=u'')))"
      ]
     },
     "metadata": {},
     "output_type": "display_data"
    },
    {
     "name": "stdout",
     "output_type": "stream",
     "text": [
      "Epoch: 16, ELBO: 140.966033936,  KL: 14.1249485016, LogLikelihood: 126.841079712, time elapse for current epoch 23.0348761082\n"
     ]
    },
    {
     "data": {
      "application/vnd.jupyter.widget-view+json": {
       "model_id": "4873cb8d487446c9b2d552657cbb1ade",
       "version_major": 2,
       "version_minor": 0
      },
      "text/plain": [
       "HBox(children=(IntProgress(value=0, max=937), HTML(value=u'')))"
      ]
     },
     "metadata": {},
     "output_type": "display_data"
    },
    {
     "name": "stdout",
     "output_type": "stream",
     "text": [
      "Epoch: 17, ELBO: 131.425247192,  KL: 10.2278404236, LogLikelihood: 121.197410583, time elapse for current epoch 23.2104101181\n"
     ]
    },
    {
     "data": {
      "application/vnd.jupyter.widget-view+json": {
       "model_id": "5cfe5b51943742f5b60c58a2b8a23f85",
       "version_major": 2,
       "version_minor": 0
      },
      "text/plain": [
       "HBox(children=(IntProgress(value=0, max=937), HTML(value=u'')))"
      ]
     },
     "metadata": {},
     "output_type": "display_data"
    },
    {
     "name": "stdout",
     "output_type": "stream",
     "text": [
      "Epoch: 18, ELBO: 133.897857666,  KL: 11.7817869186, LogLikelihood: 122.116073608, time elapse for current epoch 22.7768280506\n"
     ]
    },
    {
     "data": {
      "application/vnd.jupyter.widget-view+json": {
       "model_id": "7374a1f6a6df40edac1c51fc4f835da5",
       "version_major": 2,
       "version_minor": 0
      },
      "text/plain": [
       "HBox(children=(IntProgress(value=0, max=937), HTML(value=u'')))"
      ]
     },
     "metadata": {},
     "output_type": "display_data"
    },
    {
     "name": "stdout",
     "output_type": "stream",
     "text": [
      "Epoch: 19, ELBO: 133.529678345,  KL: 11.8234434128, LogLikelihood: 121.706245422, time elapse for current epoch 22.7186980247\n"
     ]
    },
    {
     "data": {
      "application/vnd.jupyter.widget-view+json": {
       "model_id": "4174bb8ef19c4f33be872e6a3e3f971a",
       "version_major": 2,
       "version_minor": 0
      },
      "text/plain": [
       "HBox(children=(IntProgress(value=0, max=937), HTML(value=u'')))"
      ]
     },
     "metadata": {},
     "output_type": "display_data"
    },
    {
     "name": "stdout",
     "output_type": "stream",
     "text": [
      "Epoch: 20, ELBO: 134.84085083,  KL: 12.266453743, LogLikelihood: 122.574394226, time elapse for current epoch 23.077259779\n"
     ]
    }
   ],
   "source": [
    "epochs = 20\n",
    "for epoch in range(1, epochs + 1):\n",
    "    start_time = time.time()\n",
    "    all_elbos = []\n",
    "    all_kl = []\n",
    "    all_logl = []\n",
    "    cnt = 0\n",
    "    try:\n",
    "        for i in tqdm(range(60000/64)):\n",
    "            _, elbo_value, kl, logl = sess.run([train_op, net.loss, net.kl, net.binary_crossentropy])\n",
    "            all_elbos.append(elbo_value)\n",
    "            all_kl.append(kl)\n",
    "            all_logl.append(logl)\n",
    "            cnt +=1\n",
    "    except tf.errors.OutOfRangeError:\n",
    "        pass\n",
    "        \n",
    "    end_time = time.time()\n",
    "\n",
    "#     display.clear_output(wait=False)\n",
    "    print('Epoch: {}, ELBO: {},  KL: {}, LogLikelihood: {}, '\n",
    "          'time elapse for current epoch {}'.format(epoch,\n",
    "                                                    np.mean(all_elbos), np.mean(all_kl), np.mean(all_logl),\n",
    "                                                    end_time - start_time))\n",
    "    \n",
    "    all_elbos = []"
   ]
  },
  {
   "cell_type": "code",
   "execution_count": 27,
   "metadata": {
    "collapsed": true
   },
   "outputs": [],
   "source": [
    "test_context_x = tf.placeholder(dtype=np.float32, shape=(1, None, 2))\n",
    "test_context_y = tf.placeholder(dtype=np.float32, shape=(1, None, 1))\n",
    "test_target_x = tf.placeholder(dtype=np.float32, shape=(1, 28*28, 2))"
   ]
  },
  {
   "cell_type": "code",
   "execution_count": 319,
   "metadata": {},
   "outputs": [
    {
     "data": {
      "image/png": "[encoded data removed]",
      "text/plain": [
       "<Figure size 432x288 with 1 Axes>"
      ]
     },
     "metadata": {
      "needs_background": "light"
     },
     "output_type": "display_data"
    },
    {
     "data": {
      "text/plain": [
       "((1, 784, 2), (1, 784, 1), (1, 150, 2), (1, 150, 1))"
      ]
     },
     "execution_count": 319,
     "metadata": {},
     "output_type": "execute_result"
    }
   ],
   "source": [
    "import random\n",
    "\n",
    "sample_id = random.randint(0,1000)\n",
    "img = train_images[sample_id].reshape(28,28)\n",
    "plt.imshow(img, cmap='gray')\n",
    "plt.show()\n",
    "\n",
    "all_ids = np.arange(0, 28*28, 1, dtype=np.int32)\n",
    "x_t = np.dstack(np.unravel_index(all_ids, (28,28)))[0] / 28.0\n",
    "x_t = x_t[np.newaxis]\n",
    "y_t = train_images[idx][np.newaxis,:,np.newaxis]\n",
    "\n",
    "\n",
    "\n",
    "\n",
    "x_t.shape, y_t.shape, x_c.shape, y_c.shape"
   ]
  },
  {
   "cell_type": "code",
   "execution_count": 320,
   "metadata": {},
   "outputs": [
    {
     "data": {
      "text/plain": [
       "<matplotlib.image.AxesImage at 0x7f581d6f1f90>"
      ]
     },
     "execution_count": 320,
     "metadata": {},
     "output_type": "execute_result"
    },
    {
     "data": {
      "image/png": "[encoded data removed]",
      "text/plain": [
       "<Figure size 432x288 with 1 Axes>"
      ]
     },
     "metadata": {
      "needs_background": "light"
     },
     "output_type": "display_data"
    }
   ],
   "source": [
    "n_context_points = 350\n",
    "random_ids = np.random.choice(all_ids, n_context_points, replace=False)\n",
    "y_c = train_images[sample_id][random_ids][np.newaxis,:, np.newaxis]\n",
    "x_c = np.dstack(np.unravel_index(random_ids, (28,28)))[0] / 28.0\n",
    "x_c = x_c[np.newaxis]\n",
    "\n",
    "vis_y_c = np.zeros((28,28), dtype=np.float32)\n",
    "for i, (idx,idy) in enumerate((x_c*28).astype(np.int32)[0]):\n",
    "    vis_y_c[idx,idy] = y_c[0,i,0]\n",
    "plt.imshow(vis_y_c, cmap='gray')"
   ]
  },
  {
   "cell_type": "code",
   "execution_count": 49,
   "metadata": {
    "collapsed": true
   },
   "outputs": [],
   "source": [
    "test_net = NP(test_context_x, test_context_y, test_target_x, None)"
   ]
  },
  {
   "cell_type": "code",
   "execution_count": 321,
   "metadata": {},
   "outputs": [
    {
     "data": {
      "text/plain": [
       "<matplotlib.image.AxesImage at 0x7f581d65f950>"
      ]
     },
     "execution_count": 321,
     "metadata": {},
     "output_type": "execute_result"
    },
    {
     "data": {
      "image/png": "[encoded data removed]",
      "text/plain": [
       "<Figure size 432x288 with 1 Axes>"
      ]
     },
     "metadata": {
      "needs_background": "light"
     },
     "output_type": "display_data"
    }
   ],
   "source": [
    "img_res = sess.run(test_net.y_t_hat_probs, \n",
    "                   feed_dict={test_context_x: x_c, test_context_y: y_c, test_target_x: x_t})[0,:,0]\n",
    "plt.imshow(img_res.reshape(28,28), cmap='gray')"
   ]
  }
 ],
 "metadata": {
  "kernelspec": {
   "display_name": "Python [default]",
   "language": "python",
   "name": "python2"
  },
  "language_info": {
   "codemirror_mode": {
    "name": "ipython",
    "version": 2
   },
   "file_extension": ".py",
   "mimetype": "text/x-python",
   "name": "python",
   "nbconvert_exporter": "python",
   "pygments_lexer": "ipython2",
   "version": "2.7.14"
  }
 },
 "nbformat": 4,
 "nbformat_minor": 2
}
