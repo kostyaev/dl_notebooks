{
 "cells": [
  {
   "cell_type": "code",
   "execution_count": 1,
   "metadata": {
    "collapsed": true
   },
   "outputs": [],
   "source": [
    "import os \n",
    "os.environ[\"CUDA_VISIBLE_DEVICES\"]=\"1\"\n",
    "import tensorflow as tf\n",
    "import numpy as np\n",
    "config = tf.ConfigProto()\n",
    "config.gpu_options.per_process_gpu_memory_fraction = 0.3\n",
    "import matplotlib.pyplot as plt\n",
    "%matplotlib inline\n",
    "import time\n",
    "from tqdm import tqdm_notebook as tqdm\n",
    "from tensorflow.contrib import slim"
   ]
  },
  {
   "cell_type": "code",
   "execution_count": 2,
   "metadata": {
    "collapsed": true
   },
   "outputs": [],
   "source": [
    "(train_images, _), (test_images, _) = tf.keras.datasets.mnist.load_data()"
   ]
  },
  {
   "cell_type": "code",
   "execution_count": 3,
   "metadata": {
    "collapsed": true
   },
   "outputs": [],
   "source": [
    "train_images = train_images.reshape(train_images.shape[0], 28*28).astype('float32')\n",
    "test_images = test_images.reshape(test_images.shape[0], 28*28).astype('float32')\n",
    "\n",
    "# Normalizing the images to the range of [0., 1.]\n",
    "train_images /= 255.\n",
    "test_images /= 255.\n",
    "\n",
    "# Binarization\n",
    "train_images[train_images >= .5] = 1.\n",
    "train_images[train_images < .5] = 0.\n",
    "test_images[test_images >= .5] = 1.\n",
    "test_images[test_images < .5] = 0."
   ]
  },
  {
   "cell_type": "code",
   "execution_count": 4,
   "metadata": {
    "collapsed": true
   },
   "outputs": [],
   "source": [
    "# graph = tf.Graph()\n",
    "sess = tf.InteractiveSession()"
   ]
  },
  {
   "cell_type": "code",
   "execution_count": 5,
   "metadata": {
    "collapsed": true
   },
   "outputs": [],
   "source": [
    "TRAIN_BUF = 60000\n",
    "BATCH_SIZE = 100\n",
    "TEST_BUF = 10000"
   ]
  },
  {
   "cell_type": "code",
   "execution_count": 6,
   "metadata": {
    "collapsed": true
   },
   "outputs": [],
   "source": [
    "input_dataset = tf.placeholder(dtype=tf.float32, shape=[None, 28*28], name='input_dataset')"
   ]
  },
  {
   "cell_type": "code",
   "execution_count": 7,
   "metadata": {
    "collapsed": true
   },
   "outputs": [],
   "source": [
    "dataset = tf.data.Dataset.from_tensor_slices(input_dataset)"
   ]
  },
  {
   "cell_type": "code",
   "execution_count": 8,
   "metadata": {
    "collapsed": true
   },
   "outputs": [],
   "source": [
    "data_iterator = dataset.shuffle(len(train_images)).batch(32).repeat().make_initializable_iterator()"
   ]
  },
  {
   "cell_type": "code",
   "execution_count": 9,
   "metadata": {
    "collapsed": true
   },
   "outputs": [],
   "source": [
    "input_img = data_iterator.get_next()"
   ]
  },
  {
   "cell_type": "code",
   "execution_count": 10,
   "metadata": {},
   "outputs": [
    {
     "data": {
      "text/plain": [
       "<tf.Tensor 'IteratorGetNext:0' shape=(?, 784) dtype=float32>"
      ]
     },
     "execution_count": 10,
     "metadata": {},
     "output_type": "execute_result"
    }
   ],
   "source": [
    "input_img"
   ]
  },
  {
   "cell_type": "code",
   "execution_count": 186,
   "metadata": {
    "collapsed": true
   },
   "outputs": [],
   "source": [
    "def encoder(x):\n",
    "    with tf.variable_scope('encoder'):\n",
    "        x = slim.fully_connected(x, 256, activation_fn=tf.nn.relu)\n",
    "        x = slim.fully_connected(x, 128, activation_fn=tf.nn.relu)\n",
    "        mu = slim.fully_connected(x, 32, activation_fn=None)\n",
    "        sigma = slim.fully_connected(x, 32, activation_fn=tf.nn.softplus)\n",
    "        return mu, sigma\n",
    "    \n",
    "    \n",
    "def decoder(x):\n",
    "    with tf.variable_scope('decoder'):\n",
    "        x = slim.fully_connected(x, 128, activation_fn=tf.nn.relu)\n",
    "        x = slim.fully_connected(x, 256, activation_fn=tf.nn.relu)\n",
    "        x = slim.fully_connected(x, 28*28, activation_fn=None)\n",
    "        return x\n",
    "    \n",
    "    \n",
    "class VAE:\n",
    "    \n",
    "    def __init__(self, x):\n",
    "        with tf.variable_scope('vae', reuse=tf.AUTO_REUSE):\n",
    "            self.x = x\n",
    "            self.mu, self.sigma = encoder(x)\n",
    "            self.q_z = tf.distributions.Normal(self.mu, self.sigma)\n",
    "            self.q_z_sample = self.q_z.sample()\n",
    "            \n",
    "            self.p_z = tf.distributions.Normal(0.0, 1.0)\n",
    "            \n",
    "            self.x_z = decoder(self.q_z_sample)\n",
    "            self.x_z_distribution = tf.distributions.Bernoulli(logits=self.x_z)\n",
    "            self.x_z_sample = self.x_z_distribution.sample()\n",
    "            self._loss = None\n",
    "        \n",
    "    \n",
    "    @property\n",
    "    def loss(self):\n",
    "        if self._loss is None:\n",
    "            self.kl = tf.reduce_sum(tf.distributions.kl_divergence(self.p_z, self.q_z), axis=1)\n",
    "            self.log_likelihood = tf.reduce_sum(self.x_z_distribution.log_prob(self.x), axis=1)\n",
    "            elbo = tf.reduce_mean(self.log_likelihood - self.kl)\n",
    "            self._loss = -elbo\n",
    "        return self._loss\n",
    "    \n",
    "        "
   ]
  },
  {
   "cell_type": "code",
   "execution_count": 187,
   "metadata": {
    "collapsed": true
   },
   "outputs": [],
   "source": [
    "vae = VAE(input_img)"
   ]
  },
  {
   "cell_type": "code",
   "execution_count": 34,
   "metadata": {},
   "outputs": [
    {
     "data": {
      "text/plain": [
       "<tf.Tensor 'Neg_1:0' shape=() dtype=float32>"
      ]
     },
     "execution_count": 34,
     "metadata": {},
     "output_type": "execute_result"
    }
   ],
   "source": [
    "vae.loss"
   ]
  },
  {
   "cell_type": "code",
   "execution_count": 189,
   "metadata": {
    "collapsed": true
   },
   "outputs": [],
   "source": [
    "with tf.variable_scope('optimizer', reuse=tf.AUTO_REUSE):\n",
    "    train_op = tf.train.AdamOptimizer(learning_rate=1e-4).minimize(vae.loss)"
   ]
  },
  {
   "cell_type": "code",
   "execution_count": 190,
   "metadata": {
    "collapsed": true
   },
   "outputs": [],
   "source": [
    "init_op = tf.global_variables_initializer()\n",
    "sess.run(init_op)"
   ]
  },
  {
   "cell_type": "code",
   "execution_count": 184,
   "metadata": {
    "collapsed": true
   },
   "outputs": [],
   "source": [
    "sess.run(data_iterator.initializer, feed_dict={input_dataset: train_images}) "
   ]
  },
  {
   "cell_type": "code",
   "execution_count": 141,
   "metadata": {
    "collapsed": true
   },
   "outputs": [],
   "source": [
    "from IPython import display"
   ]
  },
  {
   "cell_type": "code",
   "execution_count": 230,
   "metadata": {},
   "outputs": [
    {
     "data": {
      "application/vnd.jupyter.widget-view+json": {
       "model_id": "bce89a9411fe44b58e8ba2d651ddccc2",
       "version_major": 2,
       "version_minor": 0
      },
      "text/plain": [
       "HBox(children=(IntProgress(value=0, max=1875), HTML(value=u'')))"
      ]
     },
     "metadata": {},
     "output_type": "display_data"
    },
    {
     "name": "stdout",
     "output_type": "stream",
     "text": [
      "\n",
      "Epoch: 1, ELBO: 112.179649353,  KL: 23.8750839233, LogLikelihood: -88.3045654297, time elapse for current epoch 8.40512681007\n"
     ]
    },
    {
     "data": {
      "application/vnd.jupyter.widget-view+json": {
       "model_id": "7f988180c65e4ed6953bb76f6c64486c",
       "version_major": 2,
       "version_minor": 0
      },
      "text/plain": [
       "HBox(children=(IntProgress(value=0, max=1875), HTML(value=u'')))"
      ]
     },
     "metadata": {},
     "output_type": "display_data"
    },
    {
     "name": "stdout",
     "output_type": "stream",
     "text": [
      "\n",
      "Epoch: 2, ELBO: 111.883682251,  KL: 23.9397850037, LogLikelihood: -87.943901062, time elapse for current epoch 8.25828814507\n"
     ]
    },
    {
     "data": {
      "application/vnd.jupyter.widget-view+json": {
       "model_id": "9477ceea5c0f418097e0ab58789bb37a",
       "version_major": 2,
       "version_minor": 0
      },
      "text/plain": [
       "HBox(children=(IntProgress(value=0, max=1875), HTML(value=u'')))"
      ]
     },
     "metadata": {},
     "output_type": "display_data"
    },
    {
     "name": "stdout",
     "output_type": "stream",
     "text": [
      "\n",
      "Epoch: 3, ELBO: 111.462249756,  KL: 23.985414505, LogLikelihood: -87.4768447876, time elapse for current epoch 8.1561319828\n"
     ]
    },
    {
     "data": {
      "application/vnd.jupyter.widget-view+json": {
       "model_id": "e666d059f6224899aa9335b58236792f",
       "version_major": 2,
       "version_minor": 0
      },
      "text/plain": [
       "HBox(children=(IntProgress(value=0, max=1875), HTML(value=u'')))"
      ]
     },
     "metadata": {},
     "output_type": "display_data"
    },
    {
     "name": "stdout",
     "output_type": "stream",
     "text": [
      "\n",
      "Epoch: 4, ELBO: 111.129638672,  KL: 24.0456180573, LogLikelihood: -87.084022522, time elapse for current epoch 8.24231410027\n"
     ]
    },
    {
     "data": {
      "application/vnd.jupyter.widget-view+json": {
       "model_id": "a95d12bda25244bdb78ce88f29e0f5a0",
       "version_major": 2,
       "version_minor": 0
      },
      "text/plain": [
       "HBox(children=(IntProgress(value=0, max=1875), HTML(value=u'')))"
      ]
     },
     "metadata": {},
     "output_type": "display_data"
    },
    {
     "name": "stdout",
     "output_type": "stream",
     "text": [
      "\n",
      "Epoch: 5, ELBO: 110.817764282,  KL: 24.0775928497, LogLikelihood: -86.7401657104, time elapse for current epoch 8.40943408012\n"
     ]
    },
    {
     "data": {
      "application/vnd.jupyter.widget-view+json": {
       "model_id": "1fdc847beee240d49f9eeed5c447c636",
       "version_major": 2,
       "version_minor": 0
      },
      "text/plain": [
       "HBox(children=(IntProgress(value=0, max=1875), HTML(value=u'')))"
      ]
     },
     "metadata": {},
     "output_type": "display_data"
    },
    {
     "name": "stdout",
     "output_type": "stream",
     "text": [
      "\n",
      "Epoch: 6, ELBO: 110.466506958,  KL: 24.162437439, LogLikelihood: -86.304069519, time elapse for current epoch 8.18759894371\n"
     ]
    },
    {
     "data": {
      "application/vnd.jupyter.widget-view+json": {
       "model_id": "2fb18653356e46bda6e21c2b958b5c6c",
       "version_major": 2,
       "version_minor": 0
      },
      "text/plain": [
       "HBox(children=(IntProgress(value=0, max=1875), HTML(value=u'')))"
      ]
     },
     "metadata": {},
     "output_type": "display_data"
    },
    {
     "name": "stdout",
     "output_type": "stream",
     "text": [
      "\n",
      "Epoch: 7, ELBO: 109.971946716,  KL: 24.1537895203, LogLikelihood: -85.8181686401, time elapse for current epoch 8.19577503204\n"
     ]
    },
    {
     "data": {
      "application/vnd.jupyter.widget-view+json": {
       "model_id": "76f951b4d43c47d89d2c81a68916a8bc",
       "version_major": 2,
       "version_minor": 0
      },
      "text/plain": [
       "HBox(children=(IntProgress(value=0, max=1875), HTML(value=u'')))"
      ]
     },
     "metadata": {},
     "output_type": "display_data"
    },
    {
     "name": "stdout",
     "output_type": "stream",
     "text": [
      "\n",
      "Epoch: 8, ELBO: 109.762466431,  KL: 24.1982097626, LogLikelihood: -85.5642700195, time elapse for current epoch 8.65719795227\n"
     ]
    },
    {
     "data": {
      "application/vnd.jupyter.widget-view+json": {
       "model_id": "72f14b7b1cef4c54b972cb19e8e4fb2f",
       "version_major": 2,
       "version_minor": 0
      },
      "text/plain": [
       "HBox(children=(IntProgress(value=0, max=1875), HTML(value=u'')))"
      ]
     },
     "metadata": {},
     "output_type": "display_data"
    },
    {
     "name": "stdout",
     "output_type": "stream",
     "text": [
      "\n",
      "Epoch: 9, ELBO: 109.538360596,  KL: 24.2899570465, LogLikelihood: -85.2483978271, time elapse for current epoch 8.55536079407\n"
     ]
    },
    {
     "data": {
      "application/vnd.jupyter.widget-view+json": {
       "model_id": "63038528f89e4fe29509f15863181b38",
       "version_major": 2,
       "version_minor": 0
      },
      "text/plain": [
       "HBox(children=(IntProgress(value=0, max=1875), HTML(value=u'')))"
      ]
     },
     "metadata": {},
     "output_type": "display_data"
    },
    {
     "name": "stdout",
     "output_type": "stream",
     "text": [
      "\n",
      "Epoch: 10, ELBO: 109.177314758,  KL: 24.2820701599, LogLikelihood: -84.8952484131, time elapse for current epoch 8.09539699554\n"
     ]
    }
   ],
   "source": [
    "epochs = 10\n",
    "for epoch in range(1, epochs + 1):\n",
    "    start_time = time.time()\n",
    "    all_elbos = []\n",
    "    all_kl = []\n",
    "    all_logl = []\n",
    "    cnt = 0\n",
    "    try:\n",
    "        for i in tqdm(range(60000/32)):\n",
    "            _, elbo_value, kl, logl = sess.run([train_op, vae.loss, vae.kl, vae.log_likelihood])\n",
    "            all_elbos.append(elbo_value)\n",
    "            all_kl.append(kl)\n",
    "            all_logl.append(logl)\n",
    "            cnt +=1\n",
    "    except tf.errors.OutOfRangeError:\n",
    "        pass\n",
    "        \n",
    "    end_time = time.time()\n",
    "\n",
    "#     display.clear_output(wait=False)\n",
    "    print('Epoch: {}, ELBO: {},  KL: {}, LogLikelihood: {}, '\n",
    "          'time elapse for current epoch {}'.format(epoch,\n",
    "                                                    np.mean(all_elbos), np.mean(all_kl), np.mean(all_logl),\n",
    "                                                    end_time - start_time))\n",
    "    \n",
    "    all_elbos = []"
   ]
  },
  {
   "cell_type": "code",
   "execution_count": 192,
   "metadata": {
    "collapsed": true
   },
   "outputs": [],
   "source": [
    "test_img = tf.placeholder(dtype=np.float32, shape=(1,28*28))"
   ]
  },
  {
   "cell_type": "code",
   "execution_count": 252,
   "metadata": {},
   "outputs": [
    {
     "data": {
      "text/plain": [
       "<matplotlib.image.AxesImage at 0x7f86793e3850>"
      ]
     },
     "execution_count": 252,
     "metadata": {},
     "output_type": "execute_result"
    },
    {
     "data": {
      "image/png": "[encoded data removed]",
      "text/plain": [
       "<Figure size 432x288 with 1 Axes>"
      ]
     },
     "metadata": {
      "needs_background": "light"
     },
     "output_type": "display_data"
    }
   ],
   "source": [
    "import random\n",
    "\n",
    "img = train_images[random.randint(0,1000)].reshape(28,28)\n",
    "plt.imshow(img)"
   ]
  },
  {
   "cell_type": "code",
   "execution_count": 216,
   "metadata": {
    "collapsed": true
   },
   "outputs": [],
   "source": [
    "test_vae = VAE(test_img)"
   ]
  },
  {
   "cell_type": "code",
   "execution_count": 264,
   "metadata": {},
   "outputs": [
    {
     "data": {
      "text/plain": [
       "<matplotlib.image.AxesImage at 0x7f8678e9d0d0>"
      ]
     },
     "execution_count": 264,
     "metadata": {},
     "output_type": "execute_result"
    },
    {
     "data": {
      "image/png": "[encoded data removed]",
      "text/plain": [
       "<Figure size 432x288 with 1 Axes>"
      ]
     },
     "metadata": {
      "needs_background": "light"
     },
     "output_type": "display_data"
    }
   ],
   "source": [
    "img_res, mu, sigma = sess.run([test_vae.x_z_sample, test_vae.mu, test_vae.sigma], feed_dict={test_vae.x: img.reshape(1,28*28)})\n",
    "plt.imshow(img_res.reshape(28,28), cmap='gray')"
   ]
  },
  {
   "cell_type": "code",
   "execution_count": 229,
   "metadata": {},
   "outputs": [
    {
     "data": {
      "text/plain": [
       "(array([[ 0.78609943,  1.7558758 ,  0.37973988,  0.5070829 , -0.97787666,\n",
       "         -1.8062366 ,  1.1249653 ,  2.677858  , -0.3819904 ,  0.29011795,\n",
       "          0.4162508 , -2.370855  , -0.05751862,  3.4252708 ,  0.15634331,\n",
       "          0.0208275 , -0.8918959 , -4.020893  , -1.3652205 , -4.7685957 ,\n",
       "          1.9510143 , -1.4137087 , -0.7249669 ,  0.40732515, -3.288084  ,\n",
       "         -0.04110166, -0.5242153 , -0.3531016 , -1.2537318 , -0.31856614,\n",
       "          1.7966882 ,  1.8285857 ]], dtype=float32),\n",
       " array([[0.942603  , 1.0250568 , 0.6460827 , 0.9596573 , 0.71117526,\n",
       "         1.0960556 , 1.2179852 , 1.2276437 , 0.9992308 , 0.8818184 ,\n",
       "         1.1137724 , 1.566715  , 0.75270337, 1.5106444 , 0.7457081 ,\n",
       "         0.8866695 , 1.1036036 , 2.0120564 , 0.9510335 , 2.0995111 ,\n",
       "         1.2229885 , 0.97526824, 0.87093145, 0.9610169 , 1.2657952 ,\n",
       "         0.8231456 , 1.003576  , 0.875557  , 1.116326  , 1.0703073 ,\n",
       "         1.0007492 , 1.2643056 ]], dtype=float32))"
      ]
     },
     "execution_count": 229,
     "metadata": {},
     "output_type": "execute_result"
    }
   ],
   "source": [
    "mu, sigma"
   ]
  },
  {
   "cell_type": "code",
   "execution_count": 174,
   "metadata": {},
   "outputs": [
    {
     "data": {
      "text/plain": [
       "<matplotlib.image.AxesImage at 0x7f86902c5a10>"
      ]
     },
     "execution_count": 174,
     "metadata": {},
     "output_type": "execute_result"
    },
    {
     "data": {
      "image/png": "[encoded data removed]",
      "text/plain": [
       "<Figure size 432x288 with 1 Axes>"
      ]
     },
     "metadata": {
      "needs_background": "light"
     },
     "output_type": "display_data"
    }
   ],
   "source": [
    "img = sess.run(test_vae.x_z_sample, feed_dict={test_vae.q_z_sample: np.random.randn(1,32)}).reshape((28,28))\n",
    "plt.imshow(img, cmap='gray')"
   ]
  }
 ],
 "metadata": {
  "kernelspec": {
   "display_name": "Python [default]",
   "language": "python",
   "name": "python2"
  },
  "language_info": {
   "codemirror_mode": {
    "name": "ipython",
    "version": 2
   },
   "file_extension": ".py",
   "mimetype": "text/x-python",
   "name": "python",
   "nbconvert_exporter": "python",
   "pygments_lexer": "ipython2",
   "version": "2.7.14"
  }
 },
 "nbformat": 4,
 "nbformat_minor": 2
}
